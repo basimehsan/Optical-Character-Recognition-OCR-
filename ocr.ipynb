{
 "cells": [
  {
   "cell_type": "markdown",
   "id": "e031f001",
   "metadata": {},
   "source": [
    "# Importing Libraries"
   ]
  },
  {
   "cell_type": "code",
   "execution_count": 1,
   "id": "acd913b9",
   "metadata": {},
   "outputs": [],
   "source": [
    "import cv2\n",
    "import pytesseract\n",
    "pytesseract.pytesseract.tesseract_cmd=r'C:\\Program Files\\Tesseract-OCR\\tesseract.exe'"
   ]
  },
  {
   "cell_type": "markdown",
   "id": "38eeb6f3",
   "metadata": {},
   "source": [
    "# Image Preprocessing"
   ]
  },
  {
   "cell_type": "code",
   "execution_count": 2,
   "id": "f4480692",
   "metadata": {},
   "outputs": [],
   "source": [
    "# preprocessing\n",
    "# gray scale\n",
    "def gray(img):\n",
    "    \n",
    "    img = cv2.cvtColor(img, cv2.COLOR_BGR2GRAY)\n",
    "    cv2.imwrite(r\"./preprocess/img_gray.png\",img)\n",
    "    return img\n",
    "\n",
    "# blur\n",
    "def blur(img) :\n",
    "    img_blur = cv2.GaussianBlur(img,(5,5),0)\n",
    "    cv2.imwrite(r\"./preprocess/img_blur.png\",img)    \n",
    "    return img_blur\n",
    "\n",
    "# threshold\n",
    "def threshold(img):\n",
    "    #pixels with value below 100 are turned black (0) and those with higher value are turned white (255)\n",
    "    img = cv2.threshold(img, 100, 255, cv2.THRESH_OTSU | cv2.THRESH_BINARY)[1]    \n",
    "    cv2.imwrite(r\"./preprocess/img_threshold.png\",img)\n",
    "    return img"
   ]
  },
  {
   "cell_type": "code",
   "execution_count": 15,
   "id": "3db6f157",
   "metadata": {},
   "outputs": [],
   "source": [
    "img = cv2.imread(\"images/index.jpg\")\n",
    "img = gray(img)\n",
    "#img = blur(img) # do not applly on index.jpg\n",
    "img = threshold(img)"
   ]
  },
  {
   "cell_type": "markdown",
   "id": "fc721314",
   "metadata": {},
   "source": [
    "# Converting Image to Text"
   ]
  },
  {
   "cell_type": "code",
   "execution_count": 16,
   "id": "104e9f64",
   "metadata": {},
   "outputs": [
    {
     "name": "stdout",
     "output_type": "stream",
     "text": [
      "—] “Untitled - Notepad\n",
      "\n",
      "ile\n",
      "\n",
      "Edit\n",
      "\n",
      "Format View Help\n",
      "\n",
      "presentation\n",
      "\n",
      "intro pe zyada time nai lagana\n",
      "\n",
      "whlich project\n",
      "\n",
      "why did you choose\n",
      "\n",
      "what was the need\n",
      "\n",
      "core functionality\n",
      "\n",
      "milestiones/modules\n",
      "\f",
      "\n"
     ]
    }
   ],
   "source": [
    "#img = cv2.resize(img, (400, 450))\n",
    "cv2.imshow(\"Image\", img)\n",
    "#text = pytesseract.image_to_string(img,config='--oem 1 --psm 13') # for 1.png\n",
    "#text = pytesseract.image_to_string(img,config='--oem 1 --psm 11') # for think.jpg\n",
    "#text = pytesseract.image_to_string(img,config='--oem 1 --psm 11') # for index.jpg\n",
    "print(text)\n",
    "cv2.waitKey(0)\n",
    "cv2.destroyAllWindows()"
   ]
  }
 ],
 "metadata": {
  "kernelspec": {
   "display_name": "Python 3",
   "language": "python",
   "name": "python3"
  },
  "language_info": {
   "codemirror_mode": {
    "name": "ipython",
    "version": 3
   },
   "file_extension": ".py",
   "mimetype": "text/x-python",
   "name": "python",
   "nbconvert_exporter": "python",
   "pygments_lexer": "ipython3",
   "version": "3.8.8"
  }
 },
 "nbformat": 4,
 "nbformat_minor": 5
}
